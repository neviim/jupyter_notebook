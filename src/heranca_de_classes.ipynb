{
 "cells": [
  {
   "cell_type": "code",
   "execution_count": 1,
   "metadata": {
    "collapsed": true
   },
   "outputs": [],
   "source": [
    "class Pai(object):\n",
    "    \"\"\"docstring para Pai.\"\"\"\n",
    "    def __init__(self, data=\"Pai\"):\n",
    "        super(Pai, self).__init__()\n",
    "        self.data = data\n",
    "        self.nomePai = \"Jose\" \n",
    "        nomeMarcelo = \"Marcelo\"\n",
    "        print(\"Tudo bem?\")"
   ]
  },
  {
   "cell_type": "code",
   "execution_count": 2,
   "metadata": {
    "collapsed": true
   },
   "outputs": [],
   "source": [
    "class Mae(Pai):\n",
    "    \"\"\"docstring para Mae.\"\"\"\n",
    "    def __init__(self, data=\"Mae\"):\n",
    "        super(Mae, self).__init__()\n",
    "        self.data = data\n",
    "        self.nomeMae = \"Maria\"\n",
    "        print(\"Bom dia...\")"
   ]
  },
  {
   "cell_type": "code",
   "execution_count": 3,
   "metadata": {
    "collapsed": true
   },
   "outputs": [],
   "source": [
    "class Filho(Mae):\n",
    "    \"\"\"docstring for Filho.\"\"\"\n",
    "    def __init__(self, data=\"Filho\"):\n",
    "        super(Filho, self).__init__()\n",
    "        self.data = data\n",
    "        self.nomeFilho = \"Jesus\""
   ]
  },
  {
   "cell_type": "code",
   "execution_count": 4,
   "metadata": {
    "collapsed": false
   },
   "outputs": [
    {
     "name": "stdout",
     "output_type": "stream",
     "text": [
      "Tudo bem?\n"
     ]
    },
    {
     "data": {
      "text/plain": [
       "'Jose'"
      ]
     },
     "execution_count": 4,
     "metadata": {},
     "output_type": "execute_result"
    }
   ],
   "source": [
    "pai = Pai()\n",
    "pai.nomePai"
   ]
  },
  {
   "cell_type": "code",
   "execution_count": 5,
   "metadata": {
    "collapsed": false
   },
   "outputs": [
    {
     "name": "stdout",
     "output_type": "stream",
     "text": [
      "Tudo bem?\n",
      "Bom dia...\n"
     ]
    },
    {
     "data": {
      "text/plain": [
       "'Maria'"
      ]
     },
     "execution_count": 5,
     "metadata": {},
     "output_type": "execute_result"
    }
   ],
   "source": [
    "mae = Mae()\n",
    "mae.nomeMae"
   ]
  },
  {
   "cell_type": "code",
   "execution_count": 6,
   "metadata": {
    "collapsed": false
   },
   "outputs": [
    {
     "name": "stdout",
     "output_type": "stream",
     "text": [
      "Tudo bem?\n",
      "Bom dia...\n"
     ]
    },
    {
     "data": {
      "text/plain": [
       "'Jesus'"
      ]
     },
     "execution_count": 6,
     "metadata": {},
     "output_type": "execute_result"
    }
   ],
   "source": [
    "filho = Filho()\n",
    "filho.nomeFilho"
   ]
  },
  {
   "cell_type": "code",
   "execution_count": 7,
   "metadata": {
    "collapsed": false
   },
   "outputs": [
    {
     "data": {
      "text/plain": [
       "'Jose'"
      ]
     },
     "execution_count": 7,
     "metadata": {},
     "output_type": "execute_result"
    }
   ],
   "source": [
    "mae.nomePai"
   ]
  },
  {
   "cell_type": "code",
   "execution_count": 8,
   "metadata": {
    "collapsed": false
   },
   "outputs": [
    {
     "data": {
      "text/plain": [
       "'Jose'"
      ]
     },
     "execution_count": 8,
     "metadata": {},
     "output_type": "execute_result"
    }
   ],
   "source": [
    "filho.nomePai"
   ]
  },
  {
   "cell_type": "code",
   "execution_count": 9,
   "metadata": {
    "collapsed": false
   },
   "outputs": [],
   "source": [
    "class Marcelo(object):\n",
    "    \"\"\"docstring for Marcelo.\"\"\"\n",
    "    def __init__(self, data=\"Marcelo\"):\n",
    "        super(Marcelo, self).__init__()\n",
    "        self.data = data\n",
    "\n",
    "    def fname(self):\n",
    "        print(self.data)\n",
    "        return"
   ]
  },
  {
   "cell_type": "code",
   "execution_count": 10,
   "metadata": {
    "collapsed": true
   },
   "outputs": [],
   "source": [
    "marcelo = Marcelo()"
   ]
  },
  {
   "cell_type": "code",
   "execution_count": 12,
   "metadata": {
    "collapsed": false
   },
   "outputs": [
    {
     "name": "stdout",
     "output_type": "stream",
     "text": [
      "Marcelo\n"
     ]
    }
   ],
   "source": [
    "marcelo.fname()"
   ]
  },
  {
   "cell_type": "code",
   "execution_count": null,
   "metadata": {
    "collapsed": true
   },
   "outputs": [],
   "source": []
  }
 ],
 "metadata": {
  "kernelspec": {
   "display_name": "Python 3",
   "language": "python",
   "name": "python3"
  },
  "language_info": {
   "codemirror_mode": {
    "name": "ipython",
    "version": 3
   },
   "file_extension": ".py",
   "mimetype": "text/x-python",
   "name": "python",
   "nbconvert_exporter": "python",
   "pygments_lexer": "ipython3",
   "version": "3.6.3"
  }
 },
 "nbformat": 4,
 "nbformat_minor": 2
}
